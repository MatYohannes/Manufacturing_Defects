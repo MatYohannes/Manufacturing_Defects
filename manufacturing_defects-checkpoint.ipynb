{
 "cells": [
  {
   "cell_type": "markdown",
   "id": "0e936c64-a2ef-4652-a5b3-c253353ad4e6",
   "metadata": {},
   "source": [
    "# Manufacturing Defects Data Analysis"
   ]
  },
  {
   "cell_type": "markdown",
   "id": "432deeef-ccd5-42b6-95a8-ea69c167796c",
   "metadata": {
    "jp-MarkdownHeadingCollapsed": true
   },
   "source": []
  },
  {
   "cell_type": "markdown",
   "id": "e874f279-ea82-4181-95fa-f844848b313f",
   "metadata": {},
   "source": [
    "## Installing and Using Kaggle API"
   ]
  },
  {
   "cell_type": "code",
   "execution_count": 1,
   "id": "d9778f26",
   "metadata": {},
   "outputs": [],
   "source": [
    "#pip install kaggle"
   ]
  },
  {
   "cell_type": "code",
   "execution_count": 2,
   "id": "07762ef1",
   "metadata": {},
   "outputs": [],
   "source": [
    "# Download the dataset using Kaggle API\n",
    "#!kaggle datasets download -d fahmidachowdhury/manufacturing-defects"
   ]
  },
  {
   "cell_type": "markdown",
   "id": "8ddae24e-80bb-49f8-9e71-7bf0cd608590",
   "metadata": {},
   "source": [
    "## Extracting and Loading the Dataset"
   ]
  },
  {
   "cell_type": "code",
   "execution_count": 3,
   "id": "b33290f8",
   "metadata": {},
   "outputs": [],
   "source": [
    "import zipfile\n",
    "import pandas as pd\n",
    "\n",
    "with zipfile.ZipFile('manufacturing-defects.zip', 'r') as zip_ref:\n",
    "    zip_ref.extractall('manufacturing_defects_data')  # Extract to a specific folder"
   ]
  },
  {
   "cell_type": "code",
   "execution_count": 4,
   "id": "bd9011b9",
   "metadata": {},
   "outputs": [],
   "source": [
    "pd.set_option('display.max_columns', None)"
   ]
  },
  {
   "cell_type": "code",
   "execution_count": 5,
   "id": "5de85cd0",
   "metadata": {},
   "outputs": [],
   "source": [
    "file_path = 'manufacturing_defects_data/defects_data.csv'\n",
    "df = pd.read_csv(file_path)"
   ]
  },
  {
   "cell_type": "code",
   "execution_count": 6,
   "id": "a63e1c86",
   "metadata": {},
   "outputs": [
    {
     "data": {
      "text/html": [
       "<div>\n",
       "<style scoped>\n",
       "    .dataframe tbody tr th:only-of-type {\n",
       "        vertical-align: middle;\n",
       "    }\n",
       "\n",
       "    .dataframe tbody tr th {\n",
       "        vertical-align: top;\n",
       "    }\n",
       "\n",
       "    .dataframe thead th {\n",
       "        text-align: right;\n",
       "    }\n",
       "</style>\n",
       "<table border=\"1\" class=\"dataframe\">\n",
       "  <thead>\n",
       "    <tr style=\"text-align: right;\">\n",
       "      <th></th>\n",
       "      <th>defect_id</th>\n",
       "      <th>product_id</th>\n",
       "      <th>defect_type</th>\n",
       "      <th>defect_date</th>\n",
       "      <th>defect_location</th>\n",
       "      <th>severity</th>\n",
       "      <th>inspection_method</th>\n",
       "      <th>repair_cost</th>\n",
       "    </tr>\n",
       "  </thead>\n",
       "  <tbody>\n",
       "    <tr>\n",
       "      <th>0</th>\n",
       "      <td>1</td>\n",
       "      <td>15</td>\n",
       "      <td>Structural</td>\n",
       "      <td>6/6/2024</td>\n",
       "      <td>Component</td>\n",
       "      <td>Minor</td>\n",
       "      <td>Visual Inspection</td>\n",
       "      <td>245.47</td>\n",
       "    </tr>\n",
       "    <tr>\n",
       "      <th>1</th>\n",
       "      <td>2</td>\n",
       "      <td>6</td>\n",
       "      <td>Functional</td>\n",
       "      <td>4/26/2024</td>\n",
       "      <td>Component</td>\n",
       "      <td>Minor</td>\n",
       "      <td>Visual Inspection</td>\n",
       "      <td>26.87</td>\n",
       "    </tr>\n",
       "    <tr>\n",
       "      <th>2</th>\n",
       "      <td>3</td>\n",
       "      <td>84</td>\n",
       "      <td>Structural</td>\n",
       "      <td>2/15/2024</td>\n",
       "      <td>Internal</td>\n",
       "      <td>Minor</td>\n",
       "      <td>Automated Testing</td>\n",
       "      <td>835.81</td>\n",
       "    </tr>\n",
       "    <tr>\n",
       "      <th>3</th>\n",
       "      <td>4</td>\n",
       "      <td>10</td>\n",
       "      <td>Functional</td>\n",
       "      <td>3/28/2024</td>\n",
       "      <td>Internal</td>\n",
       "      <td>Critical</td>\n",
       "      <td>Automated Testing</td>\n",
       "      <td>444.47</td>\n",
       "    </tr>\n",
       "    <tr>\n",
       "      <th>4</th>\n",
       "      <td>5</td>\n",
       "      <td>14</td>\n",
       "      <td>Cosmetic</td>\n",
       "      <td>4/26/2024</td>\n",
       "      <td>Component</td>\n",
       "      <td>Minor</td>\n",
       "      <td>Manual Testing</td>\n",
       "      <td>823.64</td>\n",
       "    </tr>\n",
       "  </tbody>\n",
       "</table>\n",
       "</div>"
      ],
      "text/plain": [
       "   defect_id  product_id defect_type defect_date defect_location  severity  \\\n",
       "0          1          15  Structural    6/6/2024       Component     Minor   \n",
       "1          2           6  Functional   4/26/2024       Component     Minor   \n",
       "2          3          84  Structural   2/15/2024        Internal     Minor   \n",
       "3          4          10  Functional   3/28/2024        Internal  Critical   \n",
       "4          5          14    Cosmetic   4/26/2024       Component     Minor   \n",
       "\n",
       "   inspection_method  repair_cost  \n",
       "0  Visual Inspection       245.47  \n",
       "1  Visual Inspection        26.87  \n",
       "2  Automated Testing       835.81  \n",
       "3  Automated Testing       444.47  \n",
       "4     Manual Testing       823.64  "
      ]
     },
     "execution_count": 6,
     "metadata": {},
     "output_type": "execute_result"
    }
   ],
   "source": [
    "df.head()"
   ]
  },
  {
   "cell_type": "markdown",
   "id": "353cc659-618c-4ab2-8bcf-f346d735eb93",
   "metadata": {},
   "source": [
    "## Initial Exploration"
   ]
  },
  {
   "cell_type": "markdown",
   "id": "caab9ee7-f386-4293-89b7-d96bfffa2116",
   "metadata": {},
   "source": [
    "### Shape of the Dataset"
   ]
  },
  {
   "cell_type": "code",
   "execution_count": 7,
   "id": "0c7d1314",
   "metadata": {},
   "outputs": [
    {
     "data": {
      "text/plain": [
       "(1000, 8)"
      ]
     },
     "execution_count": 7,
     "metadata": {},
     "output_type": "execute_result"
    }
   ],
   "source": [
    "df.shape"
   ]
  },
  {
   "cell_type": "markdown",
   "id": "9279a983-4781-43d4-a647-a41c43d2d931",
   "metadata": {},
   "source": [
    "### Descriptive Statistics"
   ]
  },
  {
   "cell_type": "code",
   "execution_count": 8,
   "id": "e932c50f",
   "metadata": {},
   "outputs": [
    {
     "data": {
      "text/html": [
       "<div>\n",
       "<style scoped>\n",
       "    .dataframe tbody tr th:only-of-type {\n",
       "        vertical-align: middle;\n",
       "    }\n",
       "\n",
       "    .dataframe tbody tr th {\n",
       "        vertical-align: top;\n",
       "    }\n",
       "\n",
       "    .dataframe thead th {\n",
       "        text-align: right;\n",
       "    }\n",
       "</style>\n",
       "<table border=\"1\" class=\"dataframe\">\n",
       "  <thead>\n",
       "    <tr style=\"text-align: right;\">\n",
       "      <th></th>\n",
       "      <th>defect_id</th>\n",
       "      <th>product_id</th>\n",
       "      <th>repair_cost</th>\n",
       "    </tr>\n",
       "  </thead>\n",
       "  <tbody>\n",
       "    <tr>\n",
       "      <th>count</th>\n",
       "      <td>1000.000000</td>\n",
       "      <td>1000.000000</td>\n",
       "      <td>1000.000000</td>\n",
       "    </tr>\n",
       "    <tr>\n",
       "      <th>mean</th>\n",
       "      <td>500.500000</td>\n",
       "      <td>50.837000</td>\n",
       "      <td>507.627150</td>\n",
       "    </tr>\n",
       "    <tr>\n",
       "      <th>std</th>\n",
       "      <td>288.819436</td>\n",
       "      <td>29.480935</td>\n",
       "      <td>289.623615</td>\n",
       "    </tr>\n",
       "    <tr>\n",
       "      <th>min</th>\n",
       "      <td>1.000000</td>\n",
       "      <td>1.000000</td>\n",
       "      <td>10.220000</td>\n",
       "    </tr>\n",
       "    <tr>\n",
       "      <th>25%</th>\n",
       "      <td>250.750000</td>\n",
       "      <td>26.000000</td>\n",
       "      <td>270.902500</td>\n",
       "    </tr>\n",
       "    <tr>\n",
       "      <th>50%</th>\n",
       "      <td>500.500000</td>\n",
       "      <td>51.000000</td>\n",
       "      <td>506.430000</td>\n",
       "    </tr>\n",
       "    <tr>\n",
       "      <th>75%</th>\n",
       "      <td>750.250000</td>\n",
       "      <td>77.000000</td>\n",
       "      <td>759.065000</td>\n",
       "    </tr>\n",
       "    <tr>\n",
       "      <th>max</th>\n",
       "      <td>1000.000000</td>\n",
       "      <td>100.000000</td>\n",
       "      <td>999.640000</td>\n",
       "    </tr>\n",
       "  </tbody>\n",
       "</table>\n",
       "</div>"
      ],
      "text/plain": [
       "         defect_id   product_id  repair_cost\n",
       "count  1000.000000  1000.000000  1000.000000\n",
       "mean    500.500000    50.837000   507.627150\n",
       "std     288.819436    29.480935   289.623615\n",
       "min       1.000000     1.000000    10.220000\n",
       "25%     250.750000    26.000000   270.902500\n",
       "50%     500.500000    51.000000   506.430000\n",
       "75%     750.250000    77.000000   759.065000\n",
       "max    1000.000000   100.000000   999.640000"
      ]
     },
     "execution_count": 8,
     "metadata": {},
     "output_type": "execute_result"
    }
   ],
   "source": [
    "df.describe()"
   ]
  },
  {
   "cell_type": "markdown",
   "id": "4df93810-1cae-45f4-8954-87a265e4803a",
   "metadata": {},
   "source": [
    "### Data Information and Null Value Check"
   ]
  },
  {
   "cell_type": "code",
   "execution_count": 9,
   "id": "5a6ea1e7",
   "metadata": {},
   "outputs": [
    {
     "name": "stdout",
     "output_type": "stream",
     "text": [
      "<class 'pandas.core.frame.DataFrame'>\n",
      "RangeIndex: 1000 entries, 0 to 999\n",
      "Data columns (total 8 columns):\n",
      " #   Column             Non-Null Count  Dtype  \n",
      "---  ------             --------------  -----  \n",
      " 0   defect_id          1000 non-null   int64  \n",
      " 1   product_id         1000 non-null   int64  \n",
      " 2   defect_type        1000 non-null   object \n",
      " 3   defect_date        1000 non-null   object \n",
      " 4   defect_location    1000 non-null   object \n",
      " 5   severity           1000 non-null   object \n",
      " 6   inspection_method  1000 non-null   object \n",
      " 7   repair_cost        1000 non-null   float64\n",
      "dtypes: float64(1), int64(2), object(5)\n",
      "memory usage: 62.6+ KB\n"
     ]
    }
   ],
   "source": [
    "df.info()"
   ]
  },
  {
   "cell_type": "code",
   "execution_count": 10,
   "id": "87a56191",
   "metadata": {},
   "outputs": [
    {
     "data": {
      "text/plain": [
       "defect_id            0\n",
       "product_id           0\n",
       "defect_type          0\n",
       "defect_date          0\n",
       "defect_location      0\n",
       "severity             0\n",
       "inspection_method    0\n",
       "repair_cost          0\n",
       "dtype: int64"
      ]
     },
     "execution_count": 10,
     "metadata": {},
     "output_type": "execute_result"
    }
   ],
   "source": [
    "df.isnull().sum()"
   ]
  },
  {
   "cell_type": "markdown",
   "id": "1a7c16bf-0c90-450a-be2b-90d282c31d97",
   "metadata": {},
   "source": [
    "## Preprocessing"
   ]
  },
  {
   "cell_type": "markdown",
   "id": "8c38d719-2c8d-4926-8f6d-226d4ed7e497",
   "metadata": {},
   "source": [
    "### Converting Dates"
   ]
  },
  {
   "cell_type": "code",
   "execution_count": 11,
   "id": "a32a018c",
   "metadata": {},
   "outputs": [],
   "source": [
    "df['defect_date'] = pd.to_datetime(df['defect_date'])"
   ]
  },
  {
   "cell_type": "code",
   "execution_count": 12,
   "id": "cc54beca",
   "metadata": {},
   "outputs": [
    {
     "data": {
      "text/html": [
       "<div>\n",
       "<style scoped>\n",
       "    .dataframe tbody tr th:only-of-type {\n",
       "        vertical-align: middle;\n",
       "    }\n",
       "\n",
       "    .dataframe tbody tr th {\n",
       "        vertical-align: top;\n",
       "    }\n",
       "\n",
       "    .dataframe thead th {\n",
       "        text-align: right;\n",
       "    }\n",
       "</style>\n",
       "<table border=\"1\" class=\"dataframe\">\n",
       "  <thead>\n",
       "    <tr style=\"text-align: right;\">\n",
       "      <th></th>\n",
       "      <th>defect_id</th>\n",
       "      <th>product_id</th>\n",
       "      <th>defect_type</th>\n",
       "      <th>defect_date</th>\n",
       "      <th>defect_location</th>\n",
       "      <th>severity</th>\n",
       "      <th>inspection_method</th>\n",
       "      <th>repair_cost</th>\n",
       "    </tr>\n",
       "  </thead>\n",
       "  <tbody>\n",
       "    <tr>\n",
       "      <th>0</th>\n",
       "      <td>1</td>\n",
       "      <td>15</td>\n",
       "      <td>Structural</td>\n",
       "      <td>2024-06-06</td>\n",
       "      <td>Component</td>\n",
       "      <td>Minor</td>\n",
       "      <td>Visual Inspection</td>\n",
       "      <td>245.47</td>\n",
       "    </tr>\n",
       "    <tr>\n",
       "      <th>1</th>\n",
       "      <td>2</td>\n",
       "      <td>6</td>\n",
       "      <td>Functional</td>\n",
       "      <td>2024-04-26</td>\n",
       "      <td>Component</td>\n",
       "      <td>Minor</td>\n",
       "      <td>Visual Inspection</td>\n",
       "      <td>26.87</td>\n",
       "    </tr>\n",
       "    <tr>\n",
       "      <th>2</th>\n",
       "      <td>3</td>\n",
       "      <td>84</td>\n",
       "      <td>Structural</td>\n",
       "      <td>2024-02-15</td>\n",
       "      <td>Internal</td>\n",
       "      <td>Minor</td>\n",
       "      <td>Automated Testing</td>\n",
       "      <td>835.81</td>\n",
       "    </tr>\n",
       "    <tr>\n",
       "      <th>3</th>\n",
       "      <td>4</td>\n",
       "      <td>10</td>\n",
       "      <td>Functional</td>\n",
       "      <td>2024-03-28</td>\n",
       "      <td>Internal</td>\n",
       "      <td>Critical</td>\n",
       "      <td>Automated Testing</td>\n",
       "      <td>444.47</td>\n",
       "    </tr>\n",
       "    <tr>\n",
       "      <th>4</th>\n",
       "      <td>5</td>\n",
       "      <td>14</td>\n",
       "      <td>Cosmetic</td>\n",
       "      <td>2024-04-26</td>\n",
       "      <td>Component</td>\n",
       "      <td>Minor</td>\n",
       "      <td>Manual Testing</td>\n",
       "      <td>823.64</td>\n",
       "    </tr>\n",
       "    <tr>\n",
       "      <th>5</th>\n",
       "      <td>6</td>\n",
       "      <td>17</td>\n",
       "      <td>Functional</td>\n",
       "      <td>2024-05-11</td>\n",
       "      <td>Internal</td>\n",
       "      <td>Moderate</td>\n",
       "      <td>Visual Inspection</td>\n",
       "      <td>788.11</td>\n",
       "    </tr>\n",
       "    <tr>\n",
       "      <th>6</th>\n",
       "      <td>7</td>\n",
       "      <td>85</td>\n",
       "      <td>Cosmetic</td>\n",
       "      <td>2024-05-23</td>\n",
       "      <td>Internal</td>\n",
       "      <td>Critical</td>\n",
       "      <td>Manual Testing</td>\n",
       "      <td>33.68</td>\n",
       "    </tr>\n",
       "    <tr>\n",
       "      <th>7</th>\n",
       "      <td>8</td>\n",
       "      <td>90</td>\n",
       "      <td>Structural</td>\n",
       "      <td>2024-01-15</td>\n",
       "      <td>Internal</td>\n",
       "      <td>Moderate</td>\n",
       "      <td>Manual Testing</td>\n",
       "      <td>65.56</td>\n",
       "    </tr>\n",
       "    <tr>\n",
       "      <th>8</th>\n",
       "      <td>9</td>\n",
       "      <td>30</td>\n",
       "      <td>Structural</td>\n",
       "      <td>2024-01-26</td>\n",
       "      <td>Component</td>\n",
       "      <td>Critical</td>\n",
       "      <td>Manual Testing</td>\n",
       "      <td>848.61</td>\n",
       "    </tr>\n",
       "    <tr>\n",
       "      <th>9</th>\n",
       "      <td>10</td>\n",
       "      <td>20</td>\n",
       "      <td>Structural</td>\n",
       "      <td>2024-06-05</td>\n",
       "      <td>Component</td>\n",
       "      <td>Critical</td>\n",
       "      <td>Visual Inspection</td>\n",
       "      <td>478.48</td>\n",
       "    </tr>\n",
       "  </tbody>\n",
       "</table>\n",
       "</div>"
      ],
      "text/plain": [
       "   defect_id  product_id defect_type defect_date defect_location  severity  \\\n",
       "0          1          15  Structural  2024-06-06       Component     Minor   \n",
       "1          2           6  Functional  2024-04-26       Component     Minor   \n",
       "2          3          84  Structural  2024-02-15        Internal     Minor   \n",
       "3          4          10  Functional  2024-03-28        Internal  Critical   \n",
       "4          5          14    Cosmetic  2024-04-26       Component     Minor   \n",
       "5          6          17  Functional  2024-05-11        Internal  Moderate   \n",
       "6          7          85    Cosmetic  2024-05-23        Internal  Critical   \n",
       "7          8          90  Structural  2024-01-15        Internal  Moderate   \n",
       "8          9          30  Structural  2024-01-26       Component  Critical   \n",
       "9         10          20  Structural  2024-06-05       Component  Critical   \n",
       "\n",
       "   inspection_method  repair_cost  \n",
       "0  Visual Inspection       245.47  \n",
       "1  Visual Inspection        26.87  \n",
       "2  Automated Testing       835.81  \n",
       "3  Automated Testing       444.47  \n",
       "4     Manual Testing       823.64  \n",
       "5  Visual Inspection       788.11  \n",
       "6     Manual Testing        33.68  \n",
       "7     Manual Testing        65.56  \n",
       "8     Manual Testing       848.61  \n",
       "9  Visual Inspection       478.48  "
      ]
     },
     "execution_count": 12,
     "metadata": {},
     "output_type": "execute_result"
    }
   ],
   "source": [
    "df.head(10)"
   ]
  },
  {
   "cell_type": "markdown",
   "id": "48a0a144-33ca-49ef-bdf9-4944e1ab4f5e",
   "metadata": {},
   "source": [
    "### Exploring Unique Values"
   ]
  },
  {
   "cell_type": "code",
   "execution_count": 13,
   "id": "6f6a8f7a",
   "metadata": {},
   "outputs": [
    {
     "data": {
      "text/plain": [
       "(array(['Structural', 'Functional', 'Cosmetic'], dtype=object),\n",
       " array(['Component', 'Internal', 'Surface'], dtype=object),\n",
       " array(['Minor', 'Critical', 'Moderate'], dtype=object),\n",
       " array(['Visual Inspection', 'Automated Testing', 'Manual Testing'],\n",
       "       dtype=object))"
      ]
     },
     "execution_count": 13,
     "metadata": {},
     "output_type": "execute_result"
    }
   ],
   "source": [
    "df['defect_type'].unique(), df['defect_location'].unique(), df['severity'].unique(), df['inspection_method'].unique()"
   ]
  },
  {
   "cell_type": "markdown",
   "id": "2644d064-bb7c-4877-a7c8-763934ac3132",
   "metadata": {},
   "source": [
    "## Feature Engineering"
   ]
  },
  {
   "cell_type": "markdown",
   "id": "cbb96527-cd39-4565-9a69-52891899360c",
   "metadata": {},
   "source": [
    "### Mapping Categorical Features to Numerical Values"
   ]
  },
  {
   "cell_type": "code",
   "execution_count": 14,
   "id": "39ced9f1",
   "metadata": {},
   "outputs": [],
   "source": [
    "# Convert columns into an ordinal numerical scale\n",
    "# perform mathematical operations, analyze trends, and build models that require numerical input\n",
    "type_map = {\n",
    "    'Structural': 1,\n",
    "    'Functional': 2,\n",
    "    'Cosmetic': 3\n",
    "}\n",
    "\n",
    "location_map = {\n",
    "    'Component': 1,\n",
    "    'Internal': 2,\n",
    "    'Surface': 3\n",
    "}\n",
    "\n",
    "severity_map = {\n",
    "    'Minor': 1,\n",
    "    'Moderate': 2,\n",
    "    'Critical': 3\n",
    "}\n",
    "\n",
    "inspection_method_map = {\n",
    "    'Visual Inspection': 1,\n",
    "    'Automated Testing': 2,\n",
    "    'Manual Testing': 3\n",
    "}"
   ]
  },
  {
   "cell_type": "code",
   "execution_count": 15,
   "id": "590f2589",
   "metadata": {},
   "outputs": [],
   "source": [
    "df['type_numeric'] = df['defect_type'].map(type_map)\n",
    "df['location_numeric'] = df['defect_location'].map(location_map)\n",
    "df['severity_numeric'] = df['severity'].map(severity_map)\n",
    "df['inspection_method_numeric'] = df['inspection_method'].map(inspection_method_map)"
   ]
  },
  {
   "cell_type": "markdown",
   "id": "94594621-a2f3-4663-ac19-12a91953616b",
   "metadata": {},
   "source": [
    "### Extracting Date Features"
   ]
  },
  {
   "cell_type": "code",
   "execution_count": 16,
   "id": "356d5648",
   "metadata": {},
   "outputs": [],
   "source": [
    "# Time Features help analyze trends such as seasonal defects patterns, month cost variation, or weekday/weekend inspection efficiency\n",
    "df['year'] = df['defect_date'].dt.year\n",
    "df['month'] = df['defect_date'].dt.month\n",
    "df['day_of_week'] = df['defect_date'].dt.day_name()"
   ]
  },
  {
   "cell_type": "code",
   "execution_count": 17,
   "id": "0420ab43",
   "metadata": {},
   "outputs": [
    {
     "name": "stdout",
     "output_type": "stream",
     "text": [
      "<class 'pandas.core.frame.DataFrame'>\n",
      "RangeIndex: 1000 entries, 0 to 999\n",
      "Data columns (total 15 columns):\n",
      " #   Column                     Non-Null Count  Dtype         \n",
      "---  ------                     --------------  -----         \n",
      " 0   defect_id                  1000 non-null   int64         \n",
      " 1   product_id                 1000 non-null   int64         \n",
      " 2   defect_type                1000 non-null   object        \n",
      " 3   defect_date                1000 non-null   datetime64[ns]\n",
      " 4   defect_location            1000 non-null   object        \n",
      " 5   severity                   1000 non-null   object        \n",
      " 6   inspection_method          1000 non-null   object        \n",
      " 7   repair_cost                1000 non-null   float64       \n",
      " 8   type_numeric               1000 non-null   int64         \n",
      " 9   location_numeric           1000 non-null   int64         \n",
      " 10  severity_numeric           1000 non-null   int64         \n",
      " 11  inspection_method_numeric  1000 non-null   int64         \n",
      " 12  year                       1000 non-null   int64         \n",
      " 13  month                      1000 non-null   int64         \n",
      " 14  day_of_week                1000 non-null   object        \n",
      "dtypes: datetime64[ns](1), float64(1), int64(8), object(5)\n",
      "memory usage: 117.3+ KB\n"
     ]
    }
   ],
   "source": [
    "df.info()"
   ]
  },
  {
   "cell_type": "markdown",
   "id": "992d9c0b-477e-4e9b-8a77-e18f3bd34119",
   "metadata": {},
   "source": [
    "### Unique Product Analysis"
   ]
  },
  {
   "cell_type": "code",
   "execution_count": 18,
   "id": "4c8e613d",
   "metadata": {},
   "outputs": [
    {
     "data": {
      "text/plain": [
       "100"
      ]
     },
     "execution_count": 18,
     "metadata": {},
     "output_type": "execute_result"
    }
   ],
   "source": [
    "df['product_id'].nunique()"
   ]
  },
  {
   "cell_type": "code",
   "execution_count": 19,
   "id": "f1da4688",
   "metadata": {},
   "outputs": [
    {
     "data": {
      "text/html": [
       "<div>\n",
       "<style scoped>\n",
       "    .dataframe tbody tr th:only-of-type {\n",
       "        vertical-align: middle;\n",
       "    }\n",
       "\n",
       "    .dataframe tbody tr th {\n",
       "        vertical-align: top;\n",
       "    }\n",
       "\n",
       "    .dataframe thead th {\n",
       "        text-align: right;\n",
       "    }\n",
       "</style>\n",
       "<table border=\"1\" class=\"dataframe\">\n",
       "  <thead>\n",
       "    <tr style=\"text-align: right;\">\n",
       "      <th></th>\n",
       "      <th>defect_id</th>\n",
       "      <th>product_id</th>\n",
       "      <th>defect_type</th>\n",
       "      <th>defect_date</th>\n",
       "      <th>defect_location</th>\n",
       "      <th>severity</th>\n",
       "      <th>inspection_method</th>\n",
       "      <th>repair_cost</th>\n",
       "      <th>type_numeric</th>\n",
       "      <th>location_numeric</th>\n",
       "      <th>severity_numeric</th>\n",
       "      <th>inspection_method_numeric</th>\n",
       "      <th>year</th>\n",
       "      <th>month</th>\n",
       "      <th>day_of_week</th>\n",
       "    </tr>\n",
       "  </thead>\n",
       "  <tbody>\n",
       "    <tr>\n",
       "      <th>0</th>\n",
       "      <td>1</td>\n",
       "      <td>15</td>\n",
       "      <td>Structural</td>\n",
       "      <td>2024-06-06</td>\n",
       "      <td>Component</td>\n",
       "      <td>Minor</td>\n",
       "      <td>Visual Inspection</td>\n",
       "      <td>245.47</td>\n",
       "      <td>1</td>\n",
       "      <td>1</td>\n",
       "      <td>1</td>\n",
       "      <td>1</td>\n",
       "      <td>2024</td>\n",
       "      <td>6</td>\n",
       "      <td>Thursday</td>\n",
       "    </tr>\n",
       "    <tr>\n",
       "      <th>23</th>\n",
       "      <td>24</td>\n",
       "      <td>15</td>\n",
       "      <td>Structural</td>\n",
       "      <td>2024-02-23</td>\n",
       "      <td>Component</td>\n",
       "      <td>Critical</td>\n",
       "      <td>Visual Inspection</td>\n",
       "      <td>560.39</td>\n",
       "      <td>1</td>\n",
       "      <td>1</td>\n",
       "      <td>3</td>\n",
       "      <td>1</td>\n",
       "      <td>2024</td>\n",
       "      <td>2</td>\n",
       "      <td>Friday</td>\n",
       "    </tr>\n",
       "    <tr>\n",
       "      <th>72</th>\n",
       "      <td>73</td>\n",
       "      <td>15</td>\n",
       "      <td>Functional</td>\n",
       "      <td>2024-05-20</td>\n",
       "      <td>Internal</td>\n",
       "      <td>Minor</td>\n",
       "      <td>Visual Inspection</td>\n",
       "      <td>662.35</td>\n",
       "      <td>2</td>\n",
       "      <td>2</td>\n",
       "      <td>1</td>\n",
       "      <td>1</td>\n",
       "      <td>2024</td>\n",
       "      <td>5</td>\n",
       "      <td>Monday</td>\n",
       "    </tr>\n",
       "    <tr>\n",
       "      <th>324</th>\n",
       "      <td>325</td>\n",
       "      <td>15</td>\n",
       "      <td>Functional</td>\n",
       "      <td>2024-04-15</td>\n",
       "      <td>Internal</td>\n",
       "      <td>Moderate</td>\n",
       "      <td>Manual Testing</td>\n",
       "      <td>241.22</td>\n",
       "      <td>2</td>\n",
       "      <td>2</td>\n",
       "      <td>2</td>\n",
       "      <td>3</td>\n",
       "      <td>2024</td>\n",
       "      <td>4</td>\n",
       "      <td>Monday</td>\n",
       "    </tr>\n",
       "    <tr>\n",
       "      <th>428</th>\n",
       "      <td>429</td>\n",
       "      <td>15</td>\n",
       "      <td>Functional</td>\n",
       "      <td>2024-06-19</td>\n",
       "      <td>Component</td>\n",
       "      <td>Moderate</td>\n",
       "      <td>Visual Inspection</td>\n",
       "      <td>487.41</td>\n",
       "      <td>2</td>\n",
       "      <td>1</td>\n",
       "      <td>2</td>\n",
       "      <td>1</td>\n",
       "      <td>2024</td>\n",
       "      <td>6</td>\n",
       "      <td>Wednesday</td>\n",
       "    </tr>\n",
       "    <tr>\n",
       "      <th>538</th>\n",
       "      <td>539</td>\n",
       "      <td>15</td>\n",
       "      <td>Cosmetic</td>\n",
       "      <td>2024-05-12</td>\n",
       "      <td>Internal</td>\n",
       "      <td>Moderate</td>\n",
       "      <td>Manual Testing</td>\n",
       "      <td>497.65</td>\n",
       "      <td>3</td>\n",
       "      <td>2</td>\n",
       "      <td>2</td>\n",
       "      <td>3</td>\n",
       "      <td>2024</td>\n",
       "      <td>5</td>\n",
       "      <td>Sunday</td>\n",
       "    </tr>\n",
       "    <tr>\n",
       "      <th>579</th>\n",
       "      <td>580</td>\n",
       "      <td>15</td>\n",
       "      <td>Structural</td>\n",
       "      <td>2024-03-04</td>\n",
       "      <td>Internal</td>\n",
       "      <td>Moderate</td>\n",
       "      <td>Visual Inspection</td>\n",
       "      <td>16.05</td>\n",
       "      <td>1</td>\n",
       "      <td>2</td>\n",
       "      <td>2</td>\n",
       "      <td>1</td>\n",
       "      <td>2024</td>\n",
       "      <td>3</td>\n",
       "      <td>Monday</td>\n",
       "    </tr>\n",
       "    <tr>\n",
       "      <th>669</th>\n",
       "      <td>670</td>\n",
       "      <td>15</td>\n",
       "      <td>Structural</td>\n",
       "      <td>2024-02-19</td>\n",
       "      <td>Component</td>\n",
       "      <td>Critical</td>\n",
       "      <td>Visual Inspection</td>\n",
       "      <td>496.72</td>\n",
       "      <td>1</td>\n",
       "      <td>1</td>\n",
       "      <td>3</td>\n",
       "      <td>1</td>\n",
       "      <td>2024</td>\n",
       "      <td>2</td>\n",
       "      <td>Monday</td>\n",
       "    </tr>\n",
       "    <tr>\n",
       "      <th>724</th>\n",
       "      <td>725</td>\n",
       "      <td>15</td>\n",
       "      <td>Cosmetic</td>\n",
       "      <td>2024-03-27</td>\n",
       "      <td>Surface</td>\n",
       "      <td>Minor</td>\n",
       "      <td>Visual Inspection</td>\n",
       "      <td>713.29</td>\n",
       "      <td>3</td>\n",
       "      <td>3</td>\n",
       "      <td>1</td>\n",
       "      <td>1</td>\n",
       "      <td>2024</td>\n",
       "      <td>3</td>\n",
       "      <td>Wednesday</td>\n",
       "    </tr>\n",
       "    <tr>\n",
       "      <th>932</th>\n",
       "      <td>933</td>\n",
       "      <td>15</td>\n",
       "      <td>Cosmetic</td>\n",
       "      <td>2024-05-16</td>\n",
       "      <td>Internal</td>\n",
       "      <td>Minor</td>\n",
       "      <td>Visual Inspection</td>\n",
       "      <td>121.96</td>\n",
       "      <td>3</td>\n",
       "      <td>2</td>\n",
       "      <td>1</td>\n",
       "      <td>1</td>\n",
       "      <td>2024</td>\n",
       "      <td>5</td>\n",
       "      <td>Thursday</td>\n",
       "    </tr>\n",
       "  </tbody>\n",
       "</table>\n",
       "</div>"
      ],
      "text/plain": [
       "     defect_id  product_id defect_type defect_date defect_location  severity  \\\n",
       "0            1          15  Structural  2024-06-06       Component     Minor   \n",
       "23          24          15  Structural  2024-02-23       Component  Critical   \n",
       "72          73          15  Functional  2024-05-20        Internal     Minor   \n",
       "324        325          15  Functional  2024-04-15        Internal  Moderate   \n",
       "428        429          15  Functional  2024-06-19       Component  Moderate   \n",
       "538        539          15    Cosmetic  2024-05-12        Internal  Moderate   \n",
       "579        580          15  Structural  2024-03-04        Internal  Moderate   \n",
       "669        670          15  Structural  2024-02-19       Component  Critical   \n",
       "724        725          15    Cosmetic  2024-03-27         Surface     Minor   \n",
       "932        933          15    Cosmetic  2024-05-16        Internal     Minor   \n",
       "\n",
       "     inspection_method  repair_cost  type_numeric  location_numeric  \\\n",
       "0    Visual Inspection       245.47             1                 1   \n",
       "23   Visual Inspection       560.39             1                 1   \n",
       "72   Visual Inspection       662.35             2                 2   \n",
       "324     Manual Testing       241.22             2                 2   \n",
       "428  Visual Inspection       487.41             2                 1   \n",
       "538     Manual Testing       497.65             3                 2   \n",
       "579  Visual Inspection        16.05             1                 2   \n",
       "669  Visual Inspection       496.72             1                 1   \n",
       "724  Visual Inspection       713.29             3                 3   \n",
       "932  Visual Inspection       121.96             3                 2   \n",
       "\n",
       "     severity_numeric  inspection_method_numeric  year  month day_of_week  \n",
       "0                   1                          1  2024      6    Thursday  \n",
       "23                  3                          1  2024      2      Friday  \n",
       "72                  1                          1  2024      5      Monday  \n",
       "324                 2                          3  2024      4      Monday  \n",
       "428                 2                          1  2024      6   Wednesday  \n",
       "538                 2                          3  2024      5      Sunday  \n",
       "579                 2                          1  2024      3      Monday  \n",
       "669                 3                          1  2024      2      Monday  \n",
       "724                 1                          1  2024      3   Wednesday  \n",
       "932                 1                          1  2024      5    Thursday  "
      ]
     },
     "execution_count": 19,
     "metadata": {},
     "output_type": "execute_result"
    }
   ],
   "source": [
    "df[df['product_id'] == 15]"
   ]
  },
  {
   "cell_type": "markdown",
   "id": "4bf65111-788b-40c9-987b-f71aefa62669",
   "metadata": {},
   "source": [
    "### Calculating Defect-to-Product Ratio"
   ]
  },
  {
   "cell_type": "code",
   "execution_count": 20,
   "id": "5a4d106c",
   "metadata": {},
   "outputs": [],
   "source": [
    "# defect-to-product ratio shows how many defects occur per product,\n",
    "# helps identify products with higher defect rates and prioritize quality improvements\n",
    "df['defect_to_product_ratio'] = df.groupby('product_id')['defect_id'].transform('count') / df['product_id'].nunique()"
   ]
  },
  {
   "cell_type": "code",
   "execution_count": 21,
   "id": "8d730889",
   "metadata": {},
   "outputs": [
    {
     "data": {
      "text/plain": [
       "0    0.10\n",
       "1    0.15\n",
       "2    0.07\n",
       "3    0.16\n",
       "4    0.11\n",
       "5    0.14\n",
       "6    0.04\n",
       "7    0.13\n",
       "8    0.09\n",
       "9    0.07\n",
       "Name: defect_to_product_ratio, dtype: float64"
      ]
     },
     "execution_count": 21,
     "metadata": {},
     "output_type": "execute_result"
    }
   ],
   "source": [
    "df['defect_to_product_ratio'].head(10)"
   ]
  },
  {
   "cell_type": "markdown",
   "id": "2766819d",
   "metadata": {},
   "source": [
    "df['repair_cost'].describe()"
   ]
  },
  {
   "cell_type": "markdown",
   "id": "4408742f-8716-4452-9c30-75047f48dc42",
   "metadata": {},
   "source": [
    "### Creating Cost Bins"
   ]
  },
  {
   "cell_type": "markdown",
   "id": "14556db1",
   "metadata": {},
   "source": [
    "The cost_bin column simplifies repair_cost analysis by grouping costs into categories (Low, Medium, High, Critical), making trends and patterns easier to identify."
   ]
  },
  {
   "cell_type": "code",
   "execution_count": 22,
   "id": "99ad4a6f",
   "metadata": {},
   "outputs": [],
   "source": [
    "bins = [0, 271, 507, 760, 1000]\n",
    "labels = ['Low', 'Medium', 'High', 'Critical']\n",
    "df['cost_bin'] = pd.cut(df['repair_cost'], bins=bins, labels=labels)"
   ]
  },
  {
   "cell_type": "markdown",
   "id": "40c6e511-2713-4e49-a616-1fed707dd3d0",
   "metadata": {},
   "source": [
    "### Aggregating Metrics"
   ]
  },
  {
   "cell_type": "code",
   "execution_count": 35,
   "id": "c010e92c",
   "metadata": {},
   "outputs": [],
   "source": [
    "# Defect Frequency per Inspection Method\n",
    "df['defects_per_inspection'] = df.groupby('inspection_method')['defect_id'].transform('count')\n",
    "\n",
    "# Average Repair Cost per Defect Type\n",
    "df['avg_cost_per_defect_type'] = df.groupby('defect_type')['repair_cost'].transform('mean')\n",
    "\n",
    "# Defect Rate Over Time\n",
    "df['defects_per_day'] = df.groupby('defect_date')['defect_id'].transform('count')\n",
    "\n",
    "# Repair Cost-to-Product Ratio\n",
    "df['cost_to_product_ratio'] = df.groupby('product_id')['repair_cost'].transform('sum') / df['product_id'].nunique()\n",
    "\n",
    "# Inspection Cost Efficiency\n",
    "# Calculate the total repair cost for each inspection method\n",
    "inspection_cost = df.groupby('inspection_method')['repair_cost'].transform('sum')\n",
    "\n",
    "# Calculate the defects per inspection method\n",
    "defects_per_inspection = df.groupby('inspection_method')['defect_id'].transform('count')\n",
    "\n",
    "# Calculate the inspection efficiency\n",
    "df['inspection_efficiency'] = inspection_cost / defects_per_inspection"
   ]
  },
  {
   "cell_type": "code",
   "execution_count": 36,
   "id": "97b10c0a",
   "metadata": {},
   "outputs": [
    {
     "data": {
      "text/html": [
       "<div>\n",
       "<style scoped>\n",
       "    .dataframe tbody tr th:only-of-type {\n",
       "        vertical-align: middle;\n",
       "    }\n",
       "\n",
       "    .dataframe tbody tr th {\n",
       "        vertical-align: top;\n",
       "    }\n",
       "\n",
       "    .dataframe thead th {\n",
       "        text-align: right;\n",
       "    }\n",
       "</style>\n",
       "<table border=\"1\" class=\"dataframe\">\n",
       "  <thead>\n",
       "    <tr style=\"text-align: right;\">\n",
       "      <th></th>\n",
       "      <th>defect_id</th>\n",
       "      <th>product_id</th>\n",
       "      <th>defect_type</th>\n",
       "      <th>defect_date</th>\n",
       "      <th>defect_location</th>\n",
       "      <th>severity</th>\n",
       "      <th>inspection_method</th>\n",
       "      <th>repair_cost</th>\n",
       "      <th>type_numeric</th>\n",
       "      <th>location_numeric</th>\n",
       "      <th>severity_numeric</th>\n",
       "      <th>inspection_method_numeric</th>\n",
       "      <th>year</th>\n",
       "      <th>month</th>\n",
       "      <th>day_of_week</th>\n",
       "      <th>defect_to_product_ratio</th>\n",
       "      <th>cost_bin</th>\n",
       "      <th>defects_per_inspection</th>\n",
       "      <th>avg_cost_per_defect_type</th>\n",
       "      <th>defects_per_day</th>\n",
       "      <th>cost_to_product_ratio</th>\n",
       "      <th>inspection_efficiency</th>\n",
       "    </tr>\n",
       "  </thead>\n",
       "  <tbody>\n",
       "    <tr>\n",
       "      <th>0</th>\n",
       "      <td>1</td>\n",
       "      <td>15</td>\n",
       "      <td>Structural</td>\n",
       "      <td>2024-06-06</td>\n",
       "      <td>Component</td>\n",
       "      <td>Minor</td>\n",
       "      <td>Visual Inspection</td>\n",
       "      <td>245.47</td>\n",
       "      <td>1</td>\n",
       "      <td>1</td>\n",
       "      <td>1</td>\n",
       "      <td>1</td>\n",
       "      <td>2024</td>\n",
       "      <td>6</td>\n",
       "      <td>Thursday</td>\n",
       "      <td>0.10</td>\n",
       "      <td>Low</td>\n",
       "      <td>351</td>\n",
       "      <td>502.624574</td>\n",
       "      <td>3</td>\n",
       "      <td>40.4251</td>\n",
       "      <td>494.054074</td>\n",
       "    </tr>\n",
       "    <tr>\n",
       "      <th>1</th>\n",
       "      <td>2</td>\n",
       "      <td>6</td>\n",
       "      <td>Functional</td>\n",
       "      <td>2024-04-26</td>\n",
       "      <td>Component</td>\n",
       "      <td>Minor</td>\n",
       "      <td>Visual Inspection</td>\n",
       "      <td>26.87</td>\n",
       "      <td>2</td>\n",
       "      <td>1</td>\n",
       "      <td>1</td>\n",
       "      <td>1</td>\n",
       "      <td>2024</td>\n",
       "      <td>4</td>\n",
       "      <td>Friday</td>\n",
       "      <td>0.15</td>\n",
       "      <td>Low</td>\n",
       "      <td>351</td>\n",
       "      <td>507.096106</td>\n",
       "      <td>10</td>\n",
       "      <td>87.3381</td>\n",
       "      <td>494.054074</td>\n",
       "    </tr>\n",
       "    <tr>\n",
       "      <th>2</th>\n",
       "      <td>3</td>\n",
       "      <td>84</td>\n",
       "      <td>Structural</td>\n",
       "      <td>2024-02-15</td>\n",
       "      <td>Internal</td>\n",
       "      <td>Minor</td>\n",
       "      <td>Automated Testing</td>\n",
       "      <td>835.81</td>\n",
       "      <td>1</td>\n",
       "      <td>2</td>\n",
       "      <td>1</td>\n",
       "      <td>2</td>\n",
       "      <td>2024</td>\n",
       "      <td>2</td>\n",
       "      <td>Thursday</td>\n",
       "      <td>0.07</td>\n",
       "      <td>Critical</td>\n",
       "      <td>297</td>\n",
       "      <td>502.624574</td>\n",
       "      <td>7</td>\n",
       "      <td>34.4331</td>\n",
       "      <td>501.804310</td>\n",
       "    </tr>\n",
       "    <tr>\n",
       "      <th>3</th>\n",
       "      <td>4</td>\n",
       "      <td>10</td>\n",
       "      <td>Functional</td>\n",
       "      <td>2024-03-28</td>\n",
       "      <td>Internal</td>\n",
       "      <td>Critical</td>\n",
       "      <td>Automated Testing</td>\n",
       "      <td>444.47</td>\n",
       "      <td>2</td>\n",
       "      <td>2</td>\n",
       "      <td>3</td>\n",
       "      <td>2</td>\n",
       "      <td>2024</td>\n",
       "      <td>3</td>\n",
       "      <td>Thursday</td>\n",
       "      <td>0.16</td>\n",
       "      <td>Medium</td>\n",
       "      <td>297</td>\n",
       "      <td>507.096106</td>\n",
       "      <td>4</td>\n",
       "      <td>100.8492</td>\n",
       "      <td>501.804310</td>\n",
       "    </tr>\n",
       "    <tr>\n",
       "      <th>4</th>\n",
       "      <td>5</td>\n",
       "      <td>14</td>\n",
       "      <td>Cosmetic</td>\n",
       "      <td>2024-04-26</td>\n",
       "      <td>Component</td>\n",
       "      <td>Minor</td>\n",
       "      <td>Manual Testing</td>\n",
       "      <td>823.64</td>\n",
       "      <td>3</td>\n",
       "      <td>1</td>\n",
       "      <td>1</td>\n",
       "      <td>3</td>\n",
       "      <td>2024</td>\n",
       "      <td>4</td>\n",
       "      <td>Friday</td>\n",
       "      <td>0.11</td>\n",
       "      <td>Critical</td>\n",
       "      <td>352</td>\n",
       "      <td>513.908479</td>\n",
       "      <td>10</td>\n",
       "      <td>56.9366</td>\n",
       "      <td>526.074687</td>\n",
       "    </tr>\n",
       "  </tbody>\n",
       "</table>\n",
       "</div>"
      ],
      "text/plain": [
       "   defect_id  product_id defect_type defect_date defect_location  severity  \\\n",
       "0          1          15  Structural  2024-06-06       Component     Minor   \n",
       "1          2           6  Functional  2024-04-26       Component     Minor   \n",
       "2          3          84  Structural  2024-02-15        Internal     Minor   \n",
       "3          4          10  Functional  2024-03-28        Internal  Critical   \n",
       "4          5          14    Cosmetic  2024-04-26       Component     Minor   \n",
       "\n",
       "   inspection_method  repair_cost  type_numeric  location_numeric  \\\n",
       "0  Visual Inspection       245.47             1                 1   \n",
       "1  Visual Inspection        26.87             2                 1   \n",
       "2  Automated Testing       835.81             1                 2   \n",
       "3  Automated Testing       444.47             2                 2   \n",
       "4     Manual Testing       823.64             3                 1   \n",
       "\n",
       "   severity_numeric  inspection_method_numeric  year  month day_of_week  \\\n",
       "0                 1                          1  2024      6    Thursday   \n",
       "1                 1                          1  2024      4      Friday   \n",
       "2                 1                          2  2024      2    Thursday   \n",
       "3                 3                          2  2024      3    Thursday   \n",
       "4                 1                          3  2024      4      Friday   \n",
       "\n",
       "   defect_to_product_ratio  cost_bin  defects_per_inspection  \\\n",
       "0                     0.10       Low                     351   \n",
       "1                     0.15       Low                     351   \n",
       "2                     0.07  Critical                     297   \n",
       "3                     0.16    Medium                     297   \n",
       "4                     0.11  Critical                     352   \n",
       "\n",
       "   avg_cost_per_defect_type  defects_per_day  cost_to_product_ratio  \\\n",
       "0                502.624574                3                40.4251   \n",
       "1                507.096106               10                87.3381   \n",
       "2                502.624574                7                34.4331   \n",
       "3                507.096106                4               100.8492   \n",
       "4                513.908479               10                56.9366   \n",
       "\n",
       "   inspection_efficiency  \n",
       "0             494.054074  \n",
       "1             494.054074  \n",
       "2             501.804310  \n",
       "3             501.804310  \n",
       "4             526.074687  "
      ]
     },
     "execution_count": 36,
     "metadata": {},
     "output_type": "execute_result"
    }
   ],
   "source": [
    "df.head()"
   ]
  },
  {
   "cell_type": "markdown",
   "id": "9f83ffe9",
   "metadata": {},
   "source": [
    "## Outlier Detection"
   ]
  },
  {
   "cell_type": "code",
   "execution_count": 25,
   "id": "90bae8da",
   "metadata": {},
   "outputs": [
    {
     "name": "stderr",
     "output_type": "stream",
     "text": [
      "C:\\Users\\DR_OM\\anaconda3\\lib\\site-packages\\seaborn\\_decorators.py:36: FutureWarning: Pass the following variable as a keyword arg: x. From version 0.12, the only valid positional argument will be `data`, and passing other arguments without an explicit keyword will result in an error or misinterpretation.\n",
      "  warnings.warn(\n"
     ]
    },
    {
     "data": {
      "text/plain": [
       "<AxesSubplot:xlabel='repair_cost'>"
      ]
     },
     "execution_count": 25,
     "metadata": {},
     "output_type": "execute_result"
    },
    {
     "data": {
      "image/png": "[encoded data removed]",
      "text/plain": [
       "<Figure size 432x288 with 1 Axes>"
      ]
     },
     "metadata": {
      "needs_background": "light"
     },
     "output_type": "display_data"
    }
   ],
   "source": [
    "import seaborn as sns\n",
    "sns.boxplot(df['repair_cost'])"
   ]
  },
  {
   "cell_type": "code",
   "execution_count": 26,
   "id": "43ad8295",
   "metadata": {},
   "outputs": [
    {
     "data": {
      "text/plain": [
       "defect_type\n",
       "Cosmetic      513.908479\n",
       "Functional    507.096106\n",
       "Structural    502.624574\n",
       "Name: repair_cost, dtype: float64"
      ]
     },
     "execution_count": 26,
     "metadata": {},
     "output_type": "execute_result"
    }
   ],
   "source": [
    "avg_repair_cost = df.groupby('defect_type')['repair_cost'].mean()\n",
    "avg_repair_cost"
   ]
  },
  {
   "cell_type": "code",
   "execution_count": 37,
   "id": "73bd1859",
   "metadata": {},
   "outputs": [],
   "source": [
    "df.to_csv('manufacturing_defects_analysis.csv', index=False)"
   ]
  },
  {
   "cell_type": "code",
   "execution_count": null,
   "id": "21c606c5",
   "metadata": {},
   "outputs": [],
   "source": []
  }
 ],
 "metadata": {
  "kernelspec": {
   "display_name": "Python 3 (ipykernel)",
   "language": "python",
   "name": "python3"
  },
  "language_info": {
   "codemirror_mode": {
    "name": "ipython",
    "version": 3
   },
   "file_extension": ".py",
   "mimetype": "text/x-python",
   "name": "python",
   "nbconvert_exporter": "python",
   "pygments_lexer": "ipython3",
   "version": "3.12.4"
  }
 },
 "nbformat": 4,
 "nbformat_minor": 5
}
